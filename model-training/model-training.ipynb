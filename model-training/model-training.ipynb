{
 "cells": [
  {
   "cell_type": "code",
   "execution_count": null,
   "id": "7b462041-7a56-4a14-ae24-283c31b8dfae",
   "metadata": {},
   "outputs": [],
   "source": [
    "from datetime import datetime\n",
    "from glob import glob\n",
    "from os import environ, path\n",
    "from pickle import dump\n",
    "\n",
    "from boto3 import client\n",
    "from face_recognition import face_encodings, load_image_file"
   ]
  },
  {
   "cell_type": "markdown",
   "id": "7d70eef3-38c7-4f9f-aae5-85d352536918",
   "metadata": {},
   "source": [
    "### Initialize config parameters"
   ]
  },
  {
   "cell_type": "code",
   "execution_count": null,
   "id": "f0867361-4334-4cd0-8b01-5d6990095304",
   "metadata": {},
   "outputs": [],
   "source": [
    "images_folder = './face-images/'\n",
    "output_file_path = environ.get('MODEL_FILENAME', 'model.data')\n",
    "timestamp = datetime.now().strftime('%y%m%d%H%M')\n",
    "\n",
    "s3_access_key = environ.get('AWS_ACCESS_KEY_ID')\n",
    "s3_secret_key = environ.get('AWS_SECRET_ACCESS_KEY')\n",
    "s3_endpoint_url = environ.get('AWS_S3_ENDPOINT')\n",
    "s3_bucket_name = environ.get('AWS_S3_BUCKET')\n",
    "\n",
    "print(f'output file path: {output_file_path}')\n",
    "print(f'time stamp: {timestamp}')\n",
    "print(f'S3 access key: {s3_access_key}')\n",
    "print(f'S3 secret key: {s3_secret_key}')\n",
    "print(f'S3 endpoint URL: {s3_endpoint_url}')\n",
    "print(f'S3 bucket name: {s3_bucket_name}')"
   ]
  },
  {
   "cell_type": "markdown",
   "id": "6dca705b-aa5f-427c-aa78-32925eebcd59",
   "metadata": {},
   "source": [
    "### Read face image files"
   ]
  },
  {
   "cell_type": "code",
   "execution_count": null,
   "id": "997ee50a-8c14-48a9-b72c-a8e1873dc735",
   "metadata": {},
   "outputs": [],
   "source": [
    "image_file_paths = glob(path.join(images_folder, \"*.jpg\"))\n",
    "image_names = [\n",
    "    file_path.split('/')[-1].rstrip('.jpg')\n",
    "    for file_path in image_file_paths\n",
    "]\n",
    "print(image_file_paths)\n",
    "print(image_names)"
   ]
  },
  {
   "cell_type": "markdown",
   "id": "4be810ae-6095-489d-8420-a745291070e6",
   "metadata": {},
   "source": [
    "### Encode faces"
   ]
  },
  {
   "cell_type": "code",
   "execution_count": null,
   "id": "7516e1c6-b95b-4409-8b85-0955a8dd4a9b",
   "metadata": {
    "tags": []
   },
   "outputs": [],
   "source": [
    "def encode_face(image_file_path):\n",
    "    face_image = load_image_file(image_file_path)\n",
    "    encoding = face_encodings(face_image, num_jitters=100, model='large')[0]\n",
    "    return encoding\n",
    "\n",
    "encodings = [\n",
    "    encode_face(image_file_path)\n",
    "    for image_file_path in image_file_paths\n",
    "]"
   ]
  },
  {
   "cell_type": "markdown",
   "id": "8e3eb3d3-fe0c-4959-852c-faf5a50c3782",
   "metadata": {},
   "source": [
    "### Serialize encodings and metadata"
   ]
  },
  {
   "cell_type": "code",
   "execution_count": null,
   "id": "3038a113-0f85-4a26-9704-22053d88fb4d",
   "metadata": {},
   "outputs": [],
   "source": [
    "model_package = (encodings, image_names)\n",
    "\n",
    "with open(output_file_path, 'wb') as outputfile:\n",
    "    dump(model_package, outputfile)\n",
    "    print(f'Dumped model package to {output_file_path}.')"
   ]
  },
  {
   "cell_type": "markdown",
   "id": "a66b3201-0a1b-493b-a10a-344348e771ca",
   "metadata": {},
   "source": [
    "### Upload encodings to S3"
   ]
  },
  {
   "cell_type": "code",
   "execution_count": null,
   "id": "84c983e0-c14c-4255-900c-d6f29928be84",
   "metadata": {},
   "outputs": [],
   "source": [
    "s3_object_name = f'{timestamp}/{output_file_path}'\n",
    "\n",
    "s3_client = client(\n",
    "    's3', endpoint_url=s3_endpoint_url,\n",
    "    aws_access_key_id=s3_access_key, aws_secret_access_key=s3_secret_key\n",
    ")\n",
    "with open(output_file_path, 'rb') as model_package_file:\n",
    "    s3_client.upload_fileobj(model_package_file, s3_bucket_name, s3_object_name)\n",
    "\n",
    "    print(f'Uploaded {s3_object_name} to bucket {s3_bucket_name} '\n",
    "          f'to S3 storage at {s3_endpoint_url}')"
   ]
  },
  {
   "cell_type": "markdown",
   "id": "1a466cb5-e6b5-430a-bea2-e55c7f115a61",
   "metadata": {},
   "source": [
    "### Test serialized model format"
   ]
  },
  {
   "cell_type": "code",
   "execution_count": null,
   "id": "c33b9856-67a5-42b9-9804-bf6f05744a95",
   "metadata": {
    "tags": []
   },
   "outputs": [],
   "source": [
    "from pickle import load\n",
    "\n",
    "with open(output_file_path, 'rb') as inputfile:\n",
    "    loaded_models = load(inputfile)\n",
    "    \n",
    "print(loaded_models)"
   ]
  }
 ],
 "metadata": {
  "kernelspec": {
   "display_name": "Python 3.8.13",
   "language": "python",
   "name": "python3"
  },
  "language_info": {
   "codemirror_mode": {
    "name": "ipython",
    "version": 3
   },
   "file_extension": ".py",
   "mimetype": "text/x-python",
   "name": "python",
   "nbconvert_exporter": "python",
   "pygments_lexer": "ipython3",
   "version": "3.8.13"
  }
 },
 "nbformat": 4,
 "nbformat_minor": 5
}
